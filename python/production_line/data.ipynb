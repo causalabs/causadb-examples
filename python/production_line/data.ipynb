{
 "cells": [
  {
   "cell_type": "code",
   "execution_count": 22,
   "metadata": {},
   "outputs": [
    {
     "name": "stdout",
     "output_type": "stream",
     "text": [
      "The autoreload extension is already loaded. To reload it, use:\n",
      "  %reload_ext autoreload\n"
     ]
    }
   ],
   "source": [
    "%load_ext autoreload\n",
    "%autoreload 2"
   ]
  },
  {
   "cell_type": "code",
   "execution_count": 23,
   "metadata": {},
   "outputs": [],
   "source": [
    "from causacore import SyntheticData, Model"
   ]
  },
  {
   "cell_type": "code",
   "execution_count": 24,
   "metadata": {},
   "outputs": [
    {
     "ename": "KeyError",
     "evalue": "'r2'",
     "output_type": "error",
     "traceback": [
      "\u001b[0;31m---------------------------------------------------------------------------\u001b[0m",
      "\u001b[0;31mKeyError\u001b[0m                                  Traceback (most recent call last)",
      "Cell \u001b[0;32mIn[24], line 52\u001b[0m\n\u001b[1;32m     26\u001b[0m edge_specs \u001b[38;5;241m=\u001b[39m [\n\u001b[1;32m     27\u001b[0m     {\u001b[38;5;124m\"\u001b[39m\u001b[38;5;124mnodes\u001b[39m\u001b[38;5;124m\"\u001b[39m: (\u001b[38;5;124m\"\u001b[39m\u001b[38;5;124mInput_A\u001b[39m\u001b[38;5;124m\"\u001b[39m, \u001b[38;5;124m\"\u001b[39m\u001b[38;5;124mYield_A1\u001b[39m\u001b[38;5;124m\"\u001b[39m), \u001b[38;5;124m\"\u001b[39m\u001b[38;5;124meffect\u001b[39m\u001b[38;5;124m\"\u001b[39m: \u001b[38;5;241m1\u001b[39m},\n\u001b[1;32m     28\u001b[0m     {\u001b[38;5;124m\"\u001b[39m\u001b[38;5;124mnodes\u001b[39m\u001b[38;5;124m\"\u001b[39m: (\u001b[38;5;124m\"\u001b[39m\u001b[38;5;124mInput_B\u001b[39m\u001b[38;5;124m\"\u001b[39m, \u001b[38;5;124m\"\u001b[39m\u001b[38;5;124mYield_B1\u001b[39m\u001b[38;5;124m\"\u001b[39m), \u001b[38;5;124m\"\u001b[39m\u001b[38;5;124meffect\u001b[39m\u001b[38;5;124m\"\u001b[39m: \u001b[38;5;241m1\u001b[39m},\n\u001b[0;32m   (...)\u001b[0m\n\u001b[1;32m     48\u001b[0m     {\u001b[38;5;124m\"\u001b[39m\u001b[38;5;124mnodes\u001b[39m\u001b[38;5;124m\"\u001b[39m: (\u001b[38;5;124m\"\u001b[39m\u001b[38;5;124mYield_C2\u001b[39m\u001b[38;5;124m\"\u001b[39m, \u001b[38;5;124m\"\u001b[39m\u001b[38;5;124mOutput\u001b[39m\u001b[38;5;124m\"\u001b[39m), \u001b[38;5;124m\"\u001b[39m\u001b[38;5;124meffect\u001b[39m\u001b[38;5;124m\"\u001b[39m: \u001b[38;5;241m1\u001b[39m}\n\u001b[1;32m     49\u001b[0m ]\n\u001b[1;32m     51\u001b[0m \u001b[38;5;66;03m# Synthetic data generation\u001b[39;00m\n\u001b[0;32m---> 52\u001b[0m data_generator \u001b[38;5;241m=\u001b[39m \u001b[43mSyntheticData\u001b[49m\u001b[43m(\u001b[49m\u001b[43mnode_specs\u001b[49m\u001b[43m,\u001b[49m\u001b[43m \u001b[49m\u001b[43medge_specs\u001b[49m\u001b[43m)\u001b[49m\n\u001b[1;32m     53\u001b[0m data \u001b[38;5;241m=\u001b[39m data_generator\u001b[38;5;241m.\u001b[39mgenerate_data(num_samples\u001b[38;5;241m=\u001b[39m\u001b[38;5;241m200\u001b[39m)\n\u001b[1;32m     55\u001b[0m \u001b[38;5;66;03m# Train-test split\u001b[39;00m\n",
      "File \u001b[0;32m~/Library/Caches/pypoetry/virtualenvs/production-line-CwKD0ViA-py3.10/lib/python3.10/site-packages/causacore/synthetic.py:72\u001b[0m, in \u001b[0;36mSyntheticData.__init__\u001b[0;34m(self, node_specs, edge_specs, **kwargs)\u001b[0m\n\u001b[1;32m     70\u001b[0m \u001b[38;5;28mself\u001b[39m\u001b[38;5;241m.\u001b[39mdependency_map \u001b[38;5;241m=\u001b[39m \u001b[38;5;28mself\u001b[39m\u001b[38;5;241m.\u001b[39m_generate_dependency_map()\n\u001b[1;32m     71\u001b[0m \u001b[38;5;28mself\u001b[39m\u001b[38;5;241m.\u001b[39mordered_nodes \u001b[38;5;241m=\u001b[39m \u001b[38;5;28mself\u001b[39m\u001b[38;5;241m.\u001b[39m_topological_sort()\n\u001b[0;32m---> 72\u001b[0m \u001b[38;5;28;43mself\u001b[39;49m\u001b[38;5;241;43m.\u001b[39;49m\u001b[43mgenerate_data\u001b[49m\u001b[43m(\u001b[49m\u001b[43m)\u001b[49m\n",
      "File \u001b[0;32m~/Library/Caches/pypoetry/virtualenvs/production-line-CwKD0ViA-py3.10/lib/python3.10/site-packages/causacore/synthetic.py:108\u001b[0m, in \u001b[0;36mSyntheticData.generate_data\u001b[0;34m(self, num_samples)\u001b[0m\n\u001b[1;32m    104\u001b[0m \u001b[38;5;28mself\u001b[39m\u001b[38;5;241m.\u001b[39mdata[node] \u001b[38;5;241m=\u001b[39m \u001b[38;5;28mself\u001b[39m\u001b[38;5;241m.\u001b[39mcoefs[node] \u001b[38;5;241m@\u001b[39m np\u001b[38;5;241m.\u001b[39mstack(\n\u001b[1;32m    105\u001b[0m     parent_data, axis\u001b[38;5;241m=\u001b[39m\u001b[38;5;241m0\u001b[39m)\n\u001b[1;32m    106\u001b[0m \u001b[38;5;66;03m# Compute noise for node\u001b[39;00m\n\u001b[1;32m    107\u001b[0m noise_std \u001b[38;5;241m=\u001b[39m np\u001b[38;5;241m.\u001b[39msqrt(\n\u001b[0;32m--> 108\u001b[0m     \u001b[38;5;28mself\u001b[39m\u001b[38;5;241m.\u001b[39mdata[node]\u001b[38;5;241m.\u001b[39mvar() \u001b[38;5;241m*\u001b[39m (\u001b[38;5;241m1\u001b[39m \u001b[38;5;241m-\u001b[39m \u001b[38;5;28;43mself\u001b[39;49m\u001b[38;5;241;43m.\u001b[39;49m\u001b[43mnode_specs\u001b[49m\u001b[43m[\u001b[49m\u001b[43mnode\u001b[49m\u001b[43m]\u001b[49m\u001b[43m[\u001b[49m\u001b[38;5;124;43m\"\u001b[39;49m\u001b[38;5;124;43mr2\u001b[39;49m\u001b[38;5;124;43m\"\u001b[39;49m\u001b[43m]\u001b[49m))\n\u001b[1;32m    109\u001b[0m \u001b[38;5;28mself\u001b[39m\u001b[38;5;241m.\u001b[39mnoise[node] \u001b[38;5;241m=\u001b[39m np\u001b[38;5;241m.\u001b[39mrandom\u001b[38;5;241m.\u001b[39mnormal(\n\u001b[1;32m    110\u001b[0m     \u001b[38;5;241m0\u001b[39m, noise_std, num_samples)\n\u001b[1;32m    111\u001b[0m \u001b[38;5;66;03m# Add noise to the data\u001b[39;00m\n",
      "\u001b[0;31mKeyError\u001b[0m: 'r2'"
     ]
    }
   ],
   "source": [
    "# Node specifications based on the final graph\n",
    "node_specs = {\n",
    "    \"Input_A\": {\"mean\": 100, \"std\": 20, \"min\": 0, \"max\": 200},\n",
    "    \"Input_B\": {\"mean\": 120, \"std\": 30, \"min\": 0, \"max\": 240},\n",
    "    \"Input_C\": {\"mean\": 80, \"std\": 15, \"min\": 0, \"max\": 160},\n",
    "    \"Config_A1\": {\"mean\": 0.6, \"std\": 0.1, \"min\": 0, \"max\": 1},\n",
    "    \"Config_A2\": {\"mean\": 0.7, \"std\": 0.1, \"min\": 0, \"max\": 1, \"r2\": 0.3},\n",
    "    \"Config_A3\": {\"mean\": 0.8, \"std\": 0.1, \"min\": 0, \"max\": 1},\n",
    "    \"Config_B1\": {\"mean\": 0.4, \"std\": 0.1, \"min\": 0, \"max\": 1},\n",
    "    \"Config_B2\": {\"mean\": 0.5, \"std\": 0.1, \"min\": 0, \"max\": 1},\n",
    "    \"Config_B3\": {\"mean\": 0.6, \"std\": 0.1, \"min\": 0, \"max\": 1, \"r2\": 0.5},\n",
    "    \"Config_C1\": {\"mean\": 0.5, \"std\": 0.1, \"min\": 0, \"max\": 1},\n",
    "    \"Config_C2\": {\"mean\": 0.6, \"std\": 0.1, \"min\": 0, \"max\": 1},\n",
    "    \"Yield_A1\": {\"mean\": 0.6, \"std\": 0.1, \"min\": 0, \"max\": 1, \"r2\": 0.8},\n",
    "    \"Yield_A2\": {\"mean\": 0.7, \"std\": 0.1, \"min\": 0, \"max\": 1, \"r2\": 0.85},\n",
    "    \"Yield_A3\": {\"mean\": 0.8, \"std\": 0.1, \"min\": 0, \"max\": 1, \"r2\": 0.9},\n",
    "    \"Yield_B1\": {\"mean\": 0.5, \"std\": 0.1, \"min\": 0, \"max\": 1, \"r2\": 0.8},\n",
    "    \"Yield_B2\": {\"mean\": 0.6, \"std\": 0.1, \"min\": 0, \"max\": 1, \"r2\": 0.85},\n",
    "    \"Yield_B3\": {\"mean\": 0.7, \"std\": 0.1, \"min\": 0, \"max\": 1, \"r2\": 0.9},\n",
    "    \"Yield_C1\": {\"mean\": 0.4, \"std\": 0.1, \"min\": 0, \"max\": 1, \"r2\": 0.75},\n",
    "    \"Yield_C2\": {\"mean\": 0.5, \"std\": 0.1, \"min\": 0, \"max\": 1, \"r2\": 0.8},\n",
    "    \"Output\": {\"mean\": 0.9, \"std\": 0.05, \"min\": 0, \"max\": 1, \"r2\": 0.95}\n",
    "}\n",
    "\n",
    "# Edge specifications based on the final graph\n",
    "edge_specs = [\n",
    "    {\"nodes\": (\"Input_A\", \"Yield_A1\"), \"effect\": 1},\n",
    "    {\"nodes\": (\"Input_B\", \"Yield_B1\"), \"effect\": 1},\n",
    "    {\"nodes\": (\"Input_C\", \"Yield_C1\"), \"effect\": 1},\n",
    "    {\"nodes\": (\"Config_A1\", \"Yield_A1\"), \"effect\": 1},\n",
    "    {\"nodes\": (\"Config_A1\", \"Config_A2\"), \"effect\": 1},\n",
    "    {\"nodes\": (\"Config_A2\", \"Yield_A2\"), \"effect\": 1},\n",
    "    {\"nodes\": (\"Config_A2\", \"Config_A3\"), \"effect\": 1},\n",
    "    {\"nodes\": (\"Config_A3\", \"Yield_A3\"), \"effect\": 1},\n",
    "    {\"nodes\": (\"Config_B1\", \"Yield_B1\"), \"effect\": 1},\n",
    "    {\"nodes\": (\"Config_B2\", \"Yield_B2\"), \"effect\": 1},\n",
    "    {\"nodes\": (\"Config_B2\", \"Config_B3\"), \"effect\": 1},\n",
    "    {\"nodes\": (\"Config_B3\", \"Yield_B3\"), \"effect\": 1},\n",
    "    {\"nodes\": (\"Config_C1\", \"Yield_C1\"), \"effect\": 1},\n",
    "    {\"nodes\": (\"Config_C2\", \"Yield_C2\"), \"effect\": 1},\n",
    "    {\"nodes\": (\"Yield_A1\", \"Yield_A2\"), \"effect\": 1},\n",
    "    {\"nodes\": (\"Yield_A2\", \"Yield_A3\"), \"effect\": 1},\n",
    "    {\"nodes\": (\"Yield_A3\", \"Output\"), \"effect\": 1},\n",
    "    {\"nodes\": (\"Yield_B1\", \"Yield_B2\"), \"effect\": 1},\n",
    "    {\"nodes\": (\"Yield_B2\", \"Yield_B3\"), \"effect\": 1},\n",
    "    {\"nodes\": (\"Yield_B3\", \"Output\"), \"effect\": 1},\n",
    "    {\"nodes\": (\"Yield_C1\", \"Yield_C2\"), \"effect\": 1},\n",
    "    {\"nodes\": (\"Yield_C2\", \"Output\"), \"effect\": 1}\n",
    "]\n",
    "\n",
    "# Synthetic data generation\n",
    "data_generator = SyntheticData(node_specs, edge_specs)\n",
    "data = data_generator.generate_data(num_samples=200)\n",
    "\n",
    "# Train-test split\n",
    "train_data = data.iloc[:800]\n",
    "test_data = data.iloc[800:]\n",
    "\n",
    "# Define and train the model\n",
    "model = Model(\n",
    "    nodes=[\"Input_A\", \"Input_B\", \"Config_A1\", \"Config_A2\", \"Config_B1\", \"Config_B2\", \"Yield_A1\", \"Yield_A2\", \"Yield_B1\", \"Yield_B2\", \"Output\"],\n",
    "    edges=[\n",
    "        (\"Input_A\", \"Yield_A1\"),\n",
    "        (\"Input_B\", \"Yield_B1\"),\n",
    "        (\"Config_A1\", \"Yield_A1\"),\n",
    "        (\"Config_A2\", \"Yield_A2\"),\n",
    "        (\"Config_B1\", \"Yield_B1\"),\n",
    "        (\"Config_B2\", \"Yield_B2\"),\n",
    "        (\"Yield_A1\", \"Yield_A2\"),\n",
    "        (\"Yield_B1\", \"Yield_B2\"),\n",
    "        (\"Yield_A2\", \"Output\"),\n",
    "        (\"Yield_B2\", \"Output\")\n",
    "    ]\n",
    ")\n",
    "model.train(data)\n",
    "\n",
    "# Plot diagnostics\n",
    "model.diagnostics.plot()"
   ]
  },
  {
   "cell_type": "code",
   "execution_count": null,
   "metadata": {},
   "outputs": [],
   "source": [
    "# Round data to 2dp and save to CSV\n",
    "data.round(2).to_csv(\"production_data.csv\", index=False)"
   ]
  },
  {
   "cell_type": "code",
   "execution_count": null,
   "metadata": {},
   "outputs": [],
   "source": [
    "nodes = list(node_specs.keys())\n",
    "edges = [(edge[\"nodes\"][0], edge[\"nodes\"][1]) for edge in edge_specs]\n",
    "\n",
    "# Save nodes and edges to JSON\n",
    "import json\n",
    "with open(\"nodes.json\", \"w\") as f:\n",
    "    json.dump(nodes, f)\n",
    "\n",
    "with open(\"edges.json\", \"w\") as f:\n",
    "    json.dump(edges, f)"
   ]
  }
 ],
 "metadata": {
  "kernelspec": {
   "display_name": "production-line-CwKD0ViA-py3.10",
   "language": "python",
   "name": "python3"
  },
  "language_info": {
   "codemirror_mode": {
    "name": "ipython",
    "version": 3
   },
   "file_extension": ".py",
   "mimetype": "text/x-python",
   "name": "python",
   "nbconvert_exporter": "python",
   "pygments_lexer": "ipython3",
   "version": "3.10.10"
  }
 },
 "nbformat": 4,
 "nbformat_minor": 2
}
